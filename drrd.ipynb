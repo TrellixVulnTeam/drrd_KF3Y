{
 "cells": [
  {
   "cell_type": "code",
   "execution_count": 1,
   "metadata": {},
   "outputs": [
    {
     "name": "stdout",
     "output_type": "stream",
     "text": [
      "Z:       0.000\n",
      "\n",
      "A:\n",
      "\n"
     ]
    }
   ],
   "source": [
    "flag = 'A'\n",
    "#flag = flag + ':' + '\\n'\n",
    "\n",
    "letters = ['a','b','c','d','e','f','g','h','i','j','k','l'];\n",
    "\n",
    "Time_event = []\n",
    "startParse = 2e10   #bigger than stopParse for error check\n",
    "\n",
    "#!!!!!!!!!!!fNAME needs to be parsed by the function\n",
    "fNAME = 'AB1064.001';\n",
    "#fid = fopen(fNAME)\n",
    "\n",
    "try:\n",
    "    fid = open(fNAME, 'r')\n",
    "except IOError:\n",
    "    print(\"Could not read file:\", fName)\n",
    "\n",
    "##cans the entire line in as a string, with spaces (to preserve number info)\n",
    "fileString = fid.readlines() \n",
    "#print(fileString )\n",
    "\n",
    "for i in range(33,35):\n",
    "    print(fileString[i])\n",
    "#fid.close()"
   ]
  },
  {
   "cell_type": "code",
   "execution_count": 2,
   "metadata": {},
   "outputs": [],
   "source": [
    "# looking for the line positions that contain the string\n",
    "# notice that the range starts in 1 (not in zero) avoiding the first line \n",
    "# (the file name is always the first line)\n",
    "indexes = [i for i in range(1,len(fileString)) if flag in fileString[i]]"
   ]
  },
  {
   "cell_type": "code",
   "execution_count": 3,
   "metadata": {},
   "outputs": [
    {
     "data": {
      "text/plain": [
       "'A:\\n'"
      ]
     },
     "execution_count": 3,
     "metadata": {},
     "output_type": "execute_result"
    }
   ],
   "source": [
    "fileString[34]"
   ]
  },
  {
   "cell_type": "code",
   "execution_count": 9,
   "metadata": {},
   "outputs": [
    {
     "name": "stdout",
     "output_type": "stream",
     "text": [
      "Start Parse =  35\n",
      "Stop Parse =  527\n"
     ]
    }
   ],
   "source": [
    "#checks if letter is at the beginning of the string and posceded by a :\n",
    "for i in indexes:\n",
    "    if fileString[i].index(flag) == 0 and fileString[i][1] == ':':\n",
    "        startParse = i+1;\n",
    "        print('Start Parse = ',startParse)\n",
    "# now let's look for the next letter of end of file to check how many lines we should read\n",
    "#indexes = [i for i in range(1,len(fileString)) if  in fileString[i]]\n",
    "stopParse = -1;\n",
    "for i in range(startParse+1,len(fileString)-1):\n",
    "    if str.isalnum(fileString[i][0]):\n",
    "        stopParse = i;             # saves the last position that did not start with a letter\n",
    "        break;\n",
    "# checking if did not find any letters, then just record the last line of the file\n",
    "if stopParse == -1:\n",
    "    stopParse = len(fileString)-1; \n",
    "\n",
    "print('Stop Parse = ',stopParse)"
   ]
  },
  {
   "cell_type": "code",
   "execution_count": 14,
   "metadata": {},
   "outputs": [
    {
     "name": "stdout",
     "output_type": "stream",
     "text": [
      "['1173.001', '1865.003', '9125.001', '11239.003', '12510.002']\n"
     ]
    }
   ],
   "source": [
    "a = fileString[startParse]\n",
    "b = str.split(a)[1:]\n",
    "print(b)\n",
    "\n",
    "for i in range(startParse,stopParse):\n",
    "    entries = str.split(fileString[i])[1:]\n"
   ]
  },
  {
   "cell_type": "code",
   "execution_count": 5,
   "metadata": {},
   "outputs": [
    {
     "ename": "IndentationError",
     "evalue": "expected an indented block (<ipython-input-5-dbcc9d1e6544>, line 8)",
     "output_type": "error",
     "traceback": [
      "\u001b[0;36m  File \u001b[0;32m\"<ipython-input-5-dbcc9d1e6544>\"\u001b[0;36m, line \u001b[0;32m8\u001b[0m\n\u001b[0;31m    get_ipython().run_line_magic('%Finds', 'all the colons, and deletes them and the number before them')\u001b[0m\n\u001b[0m              ^\u001b[0m\n\u001b[0;31mIndentationError\u001b[0m\u001b[0;31m:\u001b[0m expected an indented block\n"
     ]
    }
   ],
   "source": [
    "% Pulls out the events and saves them as a row of numbers\n",
    "Events = nan;\n",
    "Dots = find(parsedString == '.');\n",
    "for k = 1:size(Dots,2)\n",
    "   Events(k) =  str2double(parsedString(Dots(k)+1:Dots(k)+3));\n",
    "end\n",
    "Events = nonzeros(Events);\n",
    "\n",
    "% Pulls out the times and saves them as a row of numbers\n",
    "Times = nan;\n",
    "Spaces = find(parsedString == ' '); % Find spaces\n",
    "for i = 1:length(Dots)\n",
    "    Index = Spaces(find(Dots(i)>Spaces,1,'last'))+1;\n",
    "    Times(i) = str2double(parsedString(Index:Dots(i)-1));\n",
    "end\n",
    "Times = nonzeros(Times);\n",
    "\n",
    "Time_event = [Times/500 Events];\n",
    "\n",
    "fclose(fid);"
   ]
  },
  {
   "cell_type": "code",
   "execution_count": null,
   "metadata": {},
   "outputs": [],
   "source": [
    "#print(fileString.find(flag))\n",
    "#print(fileString[34])\n",
    "\n",
    "s = 'A' + ':' + '\\n';\n",
    "print('A:' in fileString[34])\n",
    "print('A:\\n' == fileString[34])\n",
    "print(s == fileString[540])"
   ]
  },
  {
   "cell_type": "code",
   "execution_count": null,
   "metadata": {},
   "outputs": [],
   "source": [
    "#x for x in fileString if \n",
    "#print(len(fileString))\n",
    "[i for i in range(0,len(fileString)) if fileString[i] == 'A:\\n']\n",
    "\n"
   ]
  }
 ],
 "metadata": {
  "kernelspec": {
   "display_name": "Python 3",
   "language": "python",
   "name": "python3"
  },
  "language_info": {
   "codemirror_mode": {
    "name": "ipython",
    "version": 3
   },
   "file_extension": ".py",
   "mimetype": "text/x-python",
   "name": "python",
   "nbconvert_exporter": "python",
   "pygments_lexer": "ipython3",
   "version": "3.7.1"
  }
 },
 "nbformat": 4,
 "nbformat_minor": 2
}
